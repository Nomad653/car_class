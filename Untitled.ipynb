{
 "cells": [
  {
   "cell_type": "code",
   "execution_count": 27,
   "id": "ff523e4f",
   "metadata": {},
   "outputs": [],
   "source": [
    "class Car():\n",
    "    max_speed=220\n",
    "    qutu_rejimi='P'\n",
    "    cari_suret=0\n",
    "    eylec_rejimi=0\n",
    "#     isesalma_duymesi=0\n",
    "    def __init(self,color='bilinmir',marka=\"None\"):\n",
    "        self.color=color\n",
    "        self.marka=marka\n",
    "    \n",
    "    def rejim_deyisen(self,rejim):\n",
    "        if self.cari_suret==0:\n",
    "            self.qutu_rejimi=rejim\n",
    "            print('hazirki qutu rejimi',self.qutu_rejimi)\n",
    "        else: print('tebrikler qutunu dagitdiniz!')\n",
    "        \n",
    "    def qaz_pedali(self):\n",
    "        \n",
    "            if self.qutu_rejimi=='P':\n",
    "                print('p rejiminde qaz islemeyecek!!!')\n",
    "\n",
    "            elif self.qutu_rejimi=='R':\n",
    "                if self.cari_suret<30:\n",
    "                    self.cari_suret += 10\n",
    "\n",
    "                    print('cari suret: ',self.cari_suret)\n",
    "                else :\n",
    "                    print('r rejiminde maksimal surete catmisiniz.')    \n",
    "            elif self.qutu_rejimi=='D':\n",
    "                if self.cari_suret<220:\n",
    "                    self.cari_suret+=10\n",
    "\n",
    "                    print('cari suret: ',self.cari_suret)\n",
    "                else :\n",
    "                    print('maksimal surete catdiniz!')\n",
    "            elif  self.qutu_rejimi=='N':\n",
    "                print(\"N rejiminde suret artmayacaq.\")\n",
    "        \n",
    "    def eylec(self):\n",
    "        if self.qutu_rejimi==\"D\" or self.qutu_rejimi==\"R\":\n",
    "            if self.cari_suret!=0:\n",
    "                self.cari_suret-=10\n",
    "                print('cari suret: ',self.cari_suret)\n",
    "            else: print('suret 0-dir.')\n",
    "                \n",
    "        elif self.qutu_rejimi==\"P\" or self.qutu_rejimi==\"N\":\n",
    "            self.eylec_rejimi=1\n",
    "            print(f'qutu rejimi: {self.qutu_rejimi}')\n",
    "            \n",
    "    \n",
    "        \n",
    "        \n",
    "        \n",
    "    \n",
    "    "
   ]
  },
  {
   "cell_type": "code",
   "execution_count": 28,
   "id": "642f7981",
   "metadata": {},
   "outputs": [],
   "source": [
    "car2=Car()"
   ]
  },
  {
   "cell_type": "code",
   "execution_count": 19,
   "id": "b16ac85e",
   "metadata": {},
   "outputs": [
    {
     "name": "stdout",
     "output_type": "stream",
     "text": [
      "p rejiminde qaz islemeyecek!!!\n"
     ]
    }
   ],
   "source": [
    "car2.qaz_pedali()"
   ]
  },
  {
   "cell_type": "code",
   "execution_count": 40,
   "id": "974e91b7",
   "metadata": {},
   "outputs": [
    {
     "name": "stdout",
     "output_type": "stream",
     "text": [
      "suret 0-dir.\n"
     ]
    }
   ],
   "source": [
    "car2.eylec()"
   ]
  },
  {
   "cell_type": "code",
   "execution_count": 29,
   "id": "f80b909f",
   "metadata": {},
   "outputs": [
    {
     "name": "stdout",
     "output_type": "stream",
     "text": [
      "hazirki qutu rejimi R\n"
     ]
    }
   ],
   "source": [
    "car2.deyisen(\"R\")"
   ]
  },
  {
   "cell_type": "code",
   "execution_count": 34,
   "id": "75c3ecfb",
   "metadata": {},
   "outputs": [
    {
     "name": "stdout",
     "output_type": "stream",
     "text": [
      "r rejiminde maksimal surete catmisiniz.\n"
     ]
    }
   ],
   "source": [
    "car2.qaz_pedali()"
   ]
  },
  {
   "cell_type": "code",
   "execution_count": 41,
   "id": "7fdd45d6",
   "metadata": {},
   "outputs": [
    {
     "data": {
      "text/plain": [
       "'C:\\\\Users\\\\ASUS\\\\Dropbox\\\\PC\\\\Documents\\\\3009'"
      ]
     },
     "execution_count": 41,
     "metadata": {},
     "output_type": "execute_result"
    }
   ],
   "source": [
    "import os\n",
    "os.getcwd()"
   ]
  },
  {
   "cell_type": "code",
   "execution_count": null,
   "id": "c4eb5275",
   "metadata": {},
   "outputs": [],
   "source": []
  }
 ],
 "metadata": {
  "kernelspec": {
   "display_name": "Python 3 (ipykernel)",
   "language": "python",
   "name": "python3"
  },
  "language_info": {
   "codemirror_mode": {
    "name": "ipython",
    "version": 3
   },
   "file_extension": ".py",
   "mimetype": "text/x-python",
   "name": "python",
   "nbconvert_exporter": "python",
   "pygments_lexer": "ipython3",
   "version": "3.10.7"
  }
 },
 "nbformat": 4,
 "nbformat_minor": 5
}
